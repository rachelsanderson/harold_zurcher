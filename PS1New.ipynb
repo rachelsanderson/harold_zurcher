{
 "cells": [
  {
   "cell_type": "markdown",
   "metadata": {},
   "source": [
    "## ECO 542 PS #1 - More Harold Zurcher\n",
    "### Import Data"
   ]
  },
  {
   "cell_type": "code",
   "execution_count": 622,
   "metadata": {
    "scrolled": true
   },
   "outputs": [
    {
     "data": {
      "text/html": [
       "<table class=\"data-frame\"><thead><tr><th></th><th>busID</th><th>period</th><th>replace</th><th>state</th></tr><tr><th></th><th>Int64⍰</th><th>Int64⍰</th><th>Bool⍰</th><th>Int64⍰</th></tr></thead><tbody><p>5 rows × 4 columns</p><tr><th>1</th><td>1</td><td>1</td><td>false</td><td>6</td></tr><tr><th>2</th><td>1</td><td>2</td><td>true</td><td>8</td></tr><tr><th>3</th><td>1</td><td>3</td><td>false</td><td>1</td></tr><tr><th>4</th><td>1</td><td>4</td><td>false</td><td>3</td></tr><tr><th>5</th><td>1</td><td>5</td><td>false</td><td>4</td></tr></tbody></table>"
      ],
      "text/latex": [
       "\\begin{tabular}{r|cccc}\n",
       "\t& busID & period & replace & state\\\\\n",
       "\t\\hline\n",
       "\t& Int64⍰ & Int64⍰ & Bool⍰ & Int64⍰\\\\\n",
       "\t\\hline\n",
       "\t1 & 1 & 1 & false & 6 \\\\\n",
       "\t2 & 1 & 2 & true & 8 \\\\\n",
       "\t3 & 1 & 3 & false & 1 \\\\\n",
       "\t4 & 1 & 4 & false & 3 \\\\\n",
       "\t5 & 1 & 5 & false & 4 \\\\\n",
       "\\end{tabular}\n"
      ],
      "text/plain": [
       "5×4 DataFrame\n",
       "│ Row │ busID  │ period │ replace │ state  │\n",
       "│     │ \u001b[90mInt64⍰\u001b[39m │ \u001b[90mInt64⍰\u001b[39m │ \u001b[90mBool⍰\u001b[39m   │ \u001b[90mInt64⍰\u001b[39m │\n",
       "├─────┼────────┼────────┼─────────┼────────┤\n",
       "│ 1   │ 1      │ 1      │ false   │ 6      │\n",
       "│ 2   │ 1      │ 2      │ true    │ 8      │\n",
       "│ 3   │ 1      │ 3      │ false   │ 1      │\n",
       "│ 4   │ 1      │ 4      │ false   │ 3      │\n",
       "│ 5   │ 1      │ 5      │ false   │ 4      │"
      ]
     },
     "execution_count": 622,
     "metadata": {},
     "output_type": "execute_result"
    }
   ],
   "source": [
    "using CSV, DataFrames, Statistics, LinearAlgebra\n",
    "using Optim\n",
    "file = CSV.read(\"./gradIOpset1data.csv\");\n",
    "first(file,5)"
   ]
  },
  {
   "cell_type": "markdown",
   "metadata": {},
   "source": [
    "### Set up data & parameters"
   ]
  },
  {
   "cell_type": "code",
   "execution_count": 623,
   "metadata": {
    "collapsed": true
   },
   "outputs": [],
   "source": [
    "using Random, Distributions\n",
    "Random.seed!(123) \n",
    "gumb = Gumbel()\n",
    "\n",
    "d = zeros(200,120) #decisions\n",
    "x = zeros(200,120) #states \n",
    "for busData in groupby(file, :busID)\n",
    "    d[busData[:busID][1],:] = busData[:replace]\n",
    "    x[busData[:busID][1],:] = busData[:state]\n",
    "end\n",
    "\n",
    "X = [0:20;]; # state space for bus\n",
    "δ = 0.95;    # discount factor\n",
    "# construct transition matrices\n",
    "Γnr = [(i == j || i == j+2) ? 0.25 : (i == j+1) ? 0.5 : 0.0 for i=1:21,j=1:21];\n",
    "Γnr[21,20] = 0.75; Γnr[21,21] = 1.0; # fix bottom right entries\n",
    "\n",
    "Γr = zeros(21,21);\n",
    "Γr[1,:] = [0.25 for i=1:21]; Γr[2,:] = [0.5 for i=1:21]; Γr[3,:] = [0.25 for i=1:21]; # manually code Γr"
   ]
  },
  {
   "cell_type": "markdown",
   "metadata": {},
   "source": [
    "### 1. Building Blocks "
   ]
  },
  {
   "cell_type": "code",
   "execution_count": 1039,
   "metadata": {},
   "outputs": [
    {
     "data": {
      "text/plain": [
       "loglikBusOfType (generic function with 1 method)"
      ]
     },
     "execution_count": 1039,
     "metadata": {},
     "output_type": "execute_result"
    }
   ],
   "source": [
    "function cvf(V,p1,b,c)\n",
    "    v=zeros(2,21,2)\n",
    "    EV = getEV(V)\n",
    "    v[1,:,:] = b .* X + δ*EV[1,:,:]\n",
    "    v[2,:,:] = c .* ones(21) + δ*EV[2,:,:]\n",
    "    return v\n",
    "end\n",
    "\n",
    "function getEV(V)\n",
    "    EV = zeros(2,21,2)\n",
    "    ## do d=2 first, since the expected continuation value is constant\n",
    "    for t=1:2\n",
    "        EV[2,:,t] = dot(Γr[:,1],V[:,t]) .* ones(21)\n",
    "        EV[1,:,t] = [dot(Γnr[:,i],V[:,1]) for i=1:21]\n",
    "    end\n",
    "    ## return 2x21x2 array of continuation values\n",
    "    return EV\n",
    "end\n",
    "\n",
    "function emax(v)\n",
    "    return(log.(exp.(v[1,:,:]) + exp.(v[2,:,:])))\n",
    "end\n",
    "\n",
    "function pchoose(v)\n",
    "    p=zeros(2,21,2)\n",
    "    num = exp.(v[2,:,:]-v[1,:,:])\n",
    "    denom = ones(21,2)+num\n",
    "    p[2,:,:] = num./denom\n",
    "    p[1,:,:] = ones(21,2) - p[2,:,:]\n",
    "    return p\n",
    "end\n",
    "\n",
    "function inversePchoose(p)\n",
    "    #init v\n",
    "    v=zeros(2,21,2)\n",
    "    # since p = 1/(1+exp(v2-v1)) -> v2-v1 = log(p/1-p) inverse logistic\n",
    "    dv =  log.(ones(21,2) -p[2,:,:]) - log.(p[2,:,:])\n",
    "\n",
    "    # replace the engine resets the state of the bus, so v = V(0)\n",
    "    v[1,:,:] = dv\n",
    "    v2 = dv[1,1]-dv[1,2] # v(replace type 1) - v(replace type 2)\n",
    "    # type 2 is more expensive, add back its value\n",
    "    v[:,:,2] .+= v2 \n",
    "    return v\n",
    "end\n",
    "\n",
    "function iterateValues(V,p1,b,c)\n",
    "    return emax(cvf(V,p1,b,c)) \n",
    "end\n",
    "\n",
    "function iterateCCP(p,p1,b,c)\n",
    "    return pchoose(cvf(emax(inversePchoose(p)),p1,b,c))\n",
    "end\n",
    "\n",
    "function solveBellmanEquation(p1,b,c)\n",
    "    Vold = zeros(21,2)\n",
    "    Vnew = ones(21,2) \n",
    "    tol = 1e-14\n",
    "    while (norm(Vnew - Vold) >= tol)\n",
    "        Vold = Vnew\n",
    "        Vnew = iterateValues(Vold,p1,b,c)\n",
    "    end\n",
    "    return Vnew\n",
    "end\n",
    "\n",
    "function loglikBusOfType(d,x,t,v)\n",
    "    llh = 0\n",
    "    p = pchoose(v)\n",
    "    nPeriods = length(d)\n",
    "    for i in 1:nPeriods\n",
    "        if Int(d[i]) == 1\n",
    "            llh += log(p[2, (Int(x[i])+1),t])\n",
    "        end\n",
    "        if Int(d[i]) == 0\n",
    "            llh += log(p[1, (Int(x[i])+1),t])\n",
    "        end \n",
    "    end\n",
    "    return llh\n",
    "end"
   ]
  },
  {
   "cell_type": "markdown",
   "metadata": {},
   "source": [
    "### 2. MLE/NFXP/Direct\n"
   ]
  },
  {
   "cell_type": "code",
   "execution_count": 173,
   "metadata": {},
   "outputs": [
    {
     "data": {
      "text/plain": [
       "tot_llh (generic function with 1 method)"
      ]
     },
     "execution_count": 173,
     "metadata": {},
     "output_type": "execute_result"
    }
   ],
   "source": [
    "function outerLoop(theta0)\n",
    "    \n",
    "    # transform p1 in (0,1)\n",
    "    t = vcat(tanh(theta0[1]),theta0[2:5])\n",
    "    \n",
    "    # inner loop\n",
    "    v = cvf(solveBellmanEquation(t[1],t[2:3]',t[4:5]'), t[1],t[2:3]',t[4:5]')\n",
    "    \n",
    "    #outerLoop -- evaluate likelihood given params\n",
    "    return tot_llh(t[1],v)\n",
    "end\n",
    "\n",
    "function tot_llh(p1,v)\n",
    "    # compute total sample llh by aggregating individ. bus llh\n",
    "    tot_llh = 0\n",
    "    for i=1:size(d,2)\n",
    "        llh1 = exp(loglikBusOfType(d[i,:],x[i,:],1,v))\n",
    "        llh2 = exp(loglikBusOfType(d[i,:],x[i,:],2,v))\n",
    "        tot_llh = tot_llh + log(p1*llh1 + (1-p1)*llh2)\n",
    "    end\n",
    "    return tot_llh\n",
    "end    "
   ]
  },
  {
   "cell_type": "code",
   "execution_count": 626,
   "metadata": {
    "scrolled": true
   },
   "outputs": [
    {
     "name": "stdout",
     "output_type": "stream",
     "text": [
      " 13.256694 seconds (67.45 M allocations: 10.274 GiB, 10.65% gc time)\n",
      "thetaHat = [0.433275 -0.864375 -1.05235 -11.1911 -13.7966]\n"
     ]
    },
    {
     "data": {
      "text/plain": [
       "21-element Array{Float64,1}:\n",
       " 1.1568003221927245e-6\n",
       " 0.33621828736457493  \n",
       " 0.6093922947425133   \n",
       " 0.8202732133875599   \n",
       " 0.9767258519785401   \n",
       " 1.0905341222151184   \n",
       " 1.1686801085862901   \n",
       " 1.2142440843897506   \n",
       " 1.2356194209803975   \n",
       " 1.2441335619747813   \n",
       " 1.2472571058788688   \n",
       " 1.2483663161223173   \n",
       " 1.2487557200844135   \n",
       " 1.248891905174314    \n",
       " 1.2489394744850082   \n",
       " 1.248956084100223    \n",
       " 1.2489618829769726   \n",
       " 1.2489639074645489   \n",
       " 1.2489646142431714   \n",
       " 1.2489648609898434   \n",
       " 1.2489649471327324   "
      ]
     },
     "execution_count": 626,
     "metadata": {},
     "output_type": "execute_result"
    }
   ],
   "source": [
    "theta0 = [0.5 -1 -1 -10 -13]\n",
    "@time res = optimize(z -> -outerLoop(z),theta0)\n",
    "thetaHat = res.minimizer\n",
    "thetaHat[1] = tanh(thetaHat[1])\n",
    "@show thetaHat\n",
    "V1 = solveBellmanEquation(thetaHat[1],thetaHat[2:3]',thetaHat[4:5]')\n",
    "WTP2 = (ones(21)*V1[1,1]-V1[:,2])/abs(thetaHat[4]);"
   ]
  },
  {
   "cell_type": "markdown",
   "metadata": {},
   "source": [
    "### 3. MPEC"
   ]
  },
  {
   "cell_type": "code",
   "execution_count": 1058,
   "metadata": {},
   "outputs": [
    {
     "name": "stderr",
     "output_type": "stream",
     "text": [
      "┌ Info: Precompiling GLPK [60bf3e95-4087-53dc-ae20-288a0d20c6a6]\n",
      "└ @ Base loading.jl:1186\n"
     ]
    }
   ],
   "source": [
    "using GLPK, JuMP"
   ]
  },
  {
   "cell_type": "code",
   "execution_count": 1072,
   "metadata": {},
   "outputs": [
    {
     "data": {
      "text/plain": [
       "make_q (generic function with 1 method)"
      ]
     },
     "execution_count": 1072,
     "metadata": {},
     "output_type": "execute_result"
    }
   ],
   "source": [
    "model = Model(with_optimizer(GLPK.Optimizer))\n",
    "tol = 1e-2\n",
    "@variable(model, norm(iterateValues(V, p1, b, c) - V) <= tol)\n",
    "@objective(model, Max, tot_llh(theta, V, q))\n",
    "function make_q(N)\n",
    "    for i=1:q\n",
    "    @variable(model, 0<=q<=1)\n",
    "end\n",
    "\n",
    "# @variable(model, q <= 1)"
   ]
  },
  {
   "cell_type": "markdown",
   "metadata": {},
   "source": [
    "### 4. MLE/NFXP/EM\n",
    "  "
   ]
  },
  {
   "cell_type": "code",
   "execution_count": 628,
   "metadata": {
    "scrolled": true
   },
   "outputs": [
    {
     "data": {
      "text/plain": [
       "EMloop (generic function with 1 method)"
      ]
     },
     "execution_count": 628,
     "metadata": {},
     "output_type": "execute_result"
    }
   ],
   "source": [
    "function Mstep(qList,beta)\n",
    "    b = beta[1:2]'\n",
    "    c = beta[3:4]'\n",
    "    v = cvf(solveBellmanEquation(p1,b,c),p1,b,c)\n",
    "    llhList = [loglikBusOfType(d[i,:],x[i,:],t,v) for i =1:size(d,1), t=1:2]\n",
    "    llh = dot(qList,llhList[:,1]) + dot(ones(length(qList))-qList, llhList[:,2])\n",
    "    return llh\n",
    "end    \n",
    "\n",
    "function Estep(p1,v)\n",
    "    llhList = [exp(loglikBusOfType(d[i,:],x[i,:],t,v)) for i=1:size(d,1), t=1:2]\n",
    "    qList = p1*llhList[:,1]./(p1 * llhList[:,1] + (1-p1)*llhList[:,2])\n",
    "    return qList, mean(qList)\n",
    "end\n",
    "\n",
    "function EMloop()\n",
    "    p1 = theta0[1]\n",
    "    beta0=theta0[2:5]\n",
    "    v0 = cvf(solveBellmanEquation(p1, theta0[2:3]',theta0[4:5]'),p1, theta0[2:3]',theta0[4:5]')\n",
    "    vNew = similar(v0)\n",
    "    tol = 1e-2\n",
    "    its = 0 \n",
    "    while (norm(v0-vNew) > tol)\n",
    "        v0 = vNew\n",
    "        its+=1\n",
    "        qList, p1 = Estep(p1, vNew)\n",
    "        res = optimize(beta -> -Mstep(qList, beta),  beta0, BFGS())\n",
    "        beta0 = res.minimizer\n",
    "        vNew = cvf(solveBellmanEquation(p1, beta0[1:2]',beta0[3:4]'),p1, beta0[1:2]',beta0[3:4]')\n",
    "    end\n",
    "    return p1, beta0, vNew\n",
    "end"
   ]
  },
  {
   "cell_type": "code",
   "execution_count": 629,
   "metadata": {},
   "outputs": [
    {
     "name": "stdout",
     "output_type": "stream",
     "text": [
      " 26.594832 seconds (127.52 M allocations: 20.170 GiB, 10.43% gc time)\n"
     ]
    }
   ],
   "source": [
    "@time p1_3, beta_3, v_3 = EMloop()\n",
    "V3 = emax(vNew)\n",
    "WTP3 = (ones(21)*V3[1,1]-V3[:,2])/abs(beta_3[3]);"
   ]
  },
  {
   "cell_type": "markdown",
   "metadata": {},
   "source": [
    "### 5. Two-Step EM"
   ]
  },
  {
   "cell_type": "code",
   "execution_count": 699,
   "metadata": {},
   "outputs": [
    {
     "data": {
      "text/plain": [
       "twoStepEMloop (generic function with 2 methods)"
      ]
     },
     "execution_count": 699,
     "metadata": {},
     "output_type": "execute_result"
    }
   ],
   "source": [
    "function twoStepE(P, p1, beta)\n",
    "    qList, p1 = Estep(p1,inversePchoose(P))\n",
    "    Pnew = iterateCCP(P, p1,beta[1:2]',beta[3:4]')\n",
    "    return qList,p1,Pnew\n",
    "end\n",
    "\n",
    "function twoStepM(qList, P, p1, beta)\n",
    "    b = beta[1:2]'; c = beta[3:4]'\n",
    "    v = inversePchoose(iterateCCP(P,p1,b,c))\n",
    "    llhList = [loglikBusOfType(d[i,:],x[i,:],t,v) for i =1:size(d,1), t=1:2]\n",
    "    llh = dot(qList,llhList[:,1]) + dot(ones(length(qList))-qList, llhList[:,2])\n",
    "    return llh\n",
    "end    \n",
    "\n",
    "function twoStepEMloop(theta0)\n",
    "    p1 = theta0[1]\n",
    "    beta0 = theta0[2:5]\n",
    "    P = pchoose(cvf(solveBellmanEquation(p1, theta0[2:3]',theta0[4:5]'),p1, theta0[2:3]',theta0[4:5]'))\n",
    "    thetaNew = similar(theta0)\n",
    "    tol = 1e-7\n",
    "    while (norm(theta0-thetaNew) > tol)\n",
    "        theta0 = thetaNew\n",
    "        qList, p1, P = twoStepE(P, p1, beta0)\n",
    "        res = optimize(b -> -twoStepM(qList, P, p1, b),  beta0, BFGS())\n",
    "        beta0 = res.minimizer\n",
    "        thetaNew= vcat(p1, beta0)\n",
    "    end\n",
    "    return p1, beta0, P\n",
    "end"
   ]
  },
  {
   "cell_type": "code",
   "execution_count": 1047,
   "metadata": {
    "scrolled": true
   },
   "outputs": [
    {
     "name": "stdout",
     "output_type": "stream",
     "text": [
      "  8.010754 seconds (15.94 M allocations: 6.362 GiB, 14.99% gc time)\n"
     ]
    }
   ],
   "source": [
    "theta0 = vcat(0.5, [-1, -1, -10, -13])\n",
    "@time p1_5, beta_5, P_5 = twoStepEMloop(theta0)\n",
    "V5 = emax(inversePchoose(P));\n",
    "WTP5 = [(V5[1,1]-V5[x,2])/abs(beta_5[3]) for x=1:21];"
   ]
  },
  {
   "cell_type": "markdown",
   "metadata": {},
   "source": [
    "## 6. Bayesian DDC "
   ]
  },
  {
   "cell_type": "code",
   "execution_count": 1028,
   "metadata": {
    "scrolled": true
   },
   "outputs": [
    {
     "data": {
      "text/plain": [
       "metrop (generic function with 1 method)"
      ]
     },
     "execution_count": 1028,
     "metadata": {},
     "output_type": "execute_result"
    }
   ],
   "source": [
    "function weightV(θpropose, θcur, Vlist, M)\n",
    "    if (size(Vlist,1) < M)\n",
    "        return mean(Vlist)\n",
    "    end\n",
    "    θs = reverse(θpropose)\n",
    "    θs = θs[1:M]\n",
    "    weights = [norm(θs[i] - θcur) for i = 1:M]\n",
    "    weights = weights./sum(weights)\n",
    "    weightedV = sum([weights[i]*Vlist[i] for i = 1:M])\n",
    "    return weightedV\n",
    "end\n",
    "\n",
    "\n",
    "function improveV(θpropose, theta0, Vlist, M)\n",
    "    p1=theta0[1]\n",
    "    b=theta0[2:3]'\n",
    "    c=theta0[4:5]'\n",
    "    Vtemp = getEV(weightV(θpropose,theta0, Vlist,M)) # equal weights on past V, NEED TO CHANGE\n",
    "    epsilon = rand(gumb,2,21,2)\n",
    "    u1 = b .* X\n",
    "    u2 = c .* ones(21,2)\n",
    "    Vnew = max.(u1 + epsilon[1,:,:] + δ*Vtemp[1,:,:], u2 + epsilon[2,:,:] + δ*Vtemp[2,:,:])\n",
    "    pushfirst!(Vlist,Vnew) # add new to front\n",
    "    while (length(Vlist) > M) # if list is full, \n",
    "        pop!(Vlist)  # drop oldest (last in list)\n",
    "    end\n",
    "    return Vnew, Vlist\n",
    "end\n",
    "\n",
    "function llh(θ2, V)\n",
    "    p1=θ2[1]\n",
    "    b=θ2[2:3]'\n",
    "    c=θ2[4:5]'\n",
    "    v=cvf(V, p1, b, c)\n",
    "    return tot_llh(p1, v)\n",
    "end\n",
    "\n",
    "function π(theta)\n",
    "    return sum([logpdf(Normal(theta[i+1],0.01), beta_5[i]) for i = 1:4])\n",
    "    return 0 \n",
    "end\n",
    "\n",
    "function propose(θ2)\n",
    "    # proposes θ* ~ g(θ1|θ2) \n",
    "    k=100\n",
    "    betaNew = [rand(Normal(θ2[i+1],1/k)) for i=1:4]\n",
    "    betallh = [logpdf(Normal(θ2[i+1],1/k), betaNew[i]) for i = 1:4]\n",
    "     \n",
    "    # ignore p1 for now (set equal to MLE from previous parts)\n",
    "    p1New = p1_5 \n",
    "    \n",
    "    ## code for uniform draws\n",
    "    #p1New = rand(Beta(1,1))\n",
    "    # unif draws -> pdf = 1 at any pt, so log pdf = 0\n",
    "    # p1llh = logpdf(Beta(1,1),p1New)\n",
    "    \n",
    "    θnew = vcat(p1New, betaNew)\n",
    "    \n",
    "    # g (thetaOld | thetaNew), if symmetric will be same as bettallh\n",
    "    oldProp = [logpdf(Normal(betaNew[i],1/k), θ2[i+1]) for i = 1:4]\n",
    "    \n",
    "    # returns new draw, g(newDraw), g(oldDraw)\n",
    "    return θnew, sum(betallh), sum(oldProp)\n",
    "end\n",
    "\n",
    "function metrop(θinit, M, nDraws)\n",
    "   \n",
    "    Vlist = []\n",
    "    θlist = []\n",
    "    θpropose = []\n",
    "    accept = zeros(nDraws)\n",
    "    \n",
    "    burnIn = 100\n",
    "    \n",
    "    θold = θinit\n",
    "    push!(Vlist,zeros(21,2))\n",
    "    \n",
    "    for i=1:nDraws\n",
    "        # propose new θ'~ g(θ' | θ)\n",
    "        θnew, propNew, propOld = propose(θold)\n",
    "        push!(θpropose, θnew)\n",
    "        \n",
    "        #improve estimate of V\n",
    "        Vnew, Vlist = improveV(θpropose, θnew, Vlist, M)\n",
    "        \n",
    "        # calculate jump pr in logs to avoid over/underflow\n",
    "        \n",
    "        # propNew = propOld because of symmetric density so we ignore\n",
    " \n",
    "        num = π(θnew) + llh(θnew,V)\n",
    "        denom = π(θold) + llh(θold,V)\n",
    "        pJump = min(1, exp(num - denom))\n",
    "   \n",
    "        if isnan(pJump) \n",
    "            pJump = 0 \n",
    "        end\n",
    "        \n",
    "        if rand(Bernoulli(pJump)) == 1\n",
    "            push!(θlist,θnew)\n",
    "            accept[i] = 1\n",
    "            θold = θnew\n",
    "        end\n",
    "        # else θold not updated\n",
    "    end\n",
    "    \n",
    "    return Vlist, θlist, θpropose, accept\n",
    "end"
   ]
  },
  {
   "cell_type": "code",
   "execution_count": 1029,
   "metadata": {},
   "outputs": [
    {
     "name": "stdout",
     "output_type": "stream",
     "text": [
      " 40.775579 seconds (111.90 M allocations: 35.869 GiB, 15.46% gc time)\n"
     ]
    }
   ],
   "source": [
    "@time VlistNew, θlistNew, θproposeNew, acceptNew = metrop(vcat(p1_5, beta_5), 50, 10000);\n",
    "thetaBayes = mean(θlistNew[100:end])\n",
    "VBayes = solveBellmanEquation(thetaBayes[1],thetaBayes[2:3]',thetaBayes[4:5]')\n",
    "WTPBayes = [(VBayes[1,1]-VBayes[x,2])/abs(thetaBayes[4]) for x=1:21];"
   ]
  },
  {
   "cell_type": "code",
   "execution_count": 1046,
   "metadata": {},
   "outputs": [
    {
     "data": {
      "text/plain": [
       "21×5 Array{Float64,2}:\n",
       "  0.0  1.1568e-6  3.97916e-6  2.05678e-6  2.05678e-6\n",
       "  1.0  0.336218   0.333461    0.314167    0.314167  \n",
       "  2.0  0.609392   0.59057     0.566272    0.566272  \n",
       "  3.0  0.820273   0.777625    0.757726    0.757726  \n",
       "  4.0  0.976726   0.912399    0.898149    0.898149  \n",
       "  5.0  1.09053    1.0143      1.00349     1.00349   \n",
       "  6.0  1.16868    1.09233     1.08774     1.08774   \n",
       "  7.0  1.21424    1.14601     1.15777     1.15777   \n",
       "  8.0  1.23562    1.17622     1.21438     1.21438   \n",
       "  9.0  1.24413    1.19018     1.256       1.256     \n",
       " 10.0  1.24726    1.19587     1.28271     1.28271   \n",
       " 11.0  1.24837    1.19805     1.29773     1.29773   \n",
       " 12.0  1.24876    1.19887     1.30538     1.30538   \n",
       " 13.0  1.24889    1.19917     1.30905     1.30905   \n",
       " 14.0  1.24894    1.19928     1.31076     1.31076   \n",
       " 15.0  1.24896    1.19932     1.31155     1.31155   \n",
       " 16.0  1.24896    1.19934     1.3119      1.3119    \n",
       " 17.0  1.24896    1.19934     1.31207     1.31207   \n",
       " 18.0  1.24896    1.19935     1.31214     1.31214   \n",
       " 19.0  1.24896    1.19935     1.31217     1.31217   \n",
       " 20.0  1.24896    1.19935     1.31219     1.31219   "
      ]
     },
     "execution_count": 1046,
     "metadata": {},
     "output_type": "execute_result"
    }
   ],
   "source": [
    "hcat(collect(0:20), WTP1,WTP3,WTP5, WTPBayes)"
   ]
  },
  {
   "cell_type": "code",
   "execution_count": null,
   "metadata": {
    "collapsed": true
   },
   "outputs": [],
   "source": []
  }
 ],
 "metadata": {
  "kernelspec": {
   "display_name": "Julia 1.1.0",
   "language": "julia",
   "name": "julia-1.1"
  },
  "language_info": {
   "file_extension": ".jl",
   "mimetype": "application/julia",
   "name": "julia",
   "version": "1.1.0"
  }
 },
 "nbformat": 4,
 "nbformat_minor": 2
}
